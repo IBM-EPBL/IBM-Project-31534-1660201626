{
  "nbformat": 4,
  "nbformat_minor": 0,
  "metadata": {
    "colab": {
      "provenance": [],
      "collapsed_sections": []
    },
    "kernelspec": {
      "name": "python3",
      "display_name": "Python 3"
    },
    "language_info": {
      "name": "python"
    }
  },
  "cells": [
    {
      "cell_type": "code",
      "source": [
        "import numpy as np\n",
        "import pandas as pd\n",
        "import seaborn as sns\n",
        "import matplotlib.pyplot as plt"
      ],
      "metadata": {
        "id": "fJgHXoj7B5kL"
      },
      "execution_count": 10,
      "outputs": []
    },
    {
      "cell_type": "code",
      "source": [
        "from google.colab import files\n",
        "uploaded = files.upload()"
      ],
      "metadata": {
        "id": "HgFCDJjDCJyn"
      },
      "execution_count": null,
      "outputs": []
    },
    {
      "cell_type": "code",
      "source": [
        "import io\n",
        "ds = pd.read_excel(io.BytesIO(uploaded['Crude Oil Prices Daily.xlsx']))\n",
        "ds.head()\n",
        "ds[:10]"
      ],
      "metadata": {
        "colab": {
          "base_uri": "https://localhost:8080/",
          "height": 363
        },
        "id": "7dld1g3FCY4b",
        "outputId": "66e6c528-e6e8-49a8-d878-e4519f801080"
      },
      "execution_count": 12,
      "outputs": [
        {
          "output_type": "execute_result",
          "data": {
            "text/plain": [
              "        Date  Closing Value\n",
              "0 1986-01-02          25.56\n",
              "1 1986-01-03          26.00\n",
              "2 1986-01-06          26.53\n",
              "3 1986-01-07          25.85\n",
              "4 1986-01-08          25.87\n",
              "5 1986-01-09          26.03\n",
              "6 1986-01-10          25.65\n",
              "7 1986-01-13          25.08\n",
              "8 1986-01-14          24.97\n",
              "9 1986-01-15          25.18"
            ],
            "text/html": [
              "\n",
              "  <div id=\"df-8cd5e856-7a70-4de0-a85e-b2a5436a525b\">\n",
              "    <div class=\"colab-df-container\">\n",
              "      <div>\n",
              "<style scoped>\n",
              "    .dataframe tbody tr th:only-of-type {\n",
              "        vertical-align: middle;\n",
              "    }\n",
              "\n",
              "    .dataframe tbody tr th {\n",
              "        vertical-align: top;\n",
              "    }\n",
              "\n",
              "    .dataframe thead th {\n",
              "        text-align: right;\n",
              "    }\n",
              "</style>\n",
              "<table border=\"1\" class=\"dataframe\">\n",
              "  <thead>\n",
              "    <tr style=\"text-align: right;\">\n",
              "      <th></th>\n",
              "      <th>Date</th>\n",
              "      <th>Closing Value</th>\n",
              "    </tr>\n",
              "  </thead>\n",
              "  <tbody>\n",
              "    <tr>\n",
              "      <th>0</th>\n",
              "      <td>1986-01-02</td>\n",
              "      <td>25.56</td>\n",
              "    </tr>\n",
              "    <tr>\n",
              "      <th>1</th>\n",
              "      <td>1986-01-03</td>\n",
              "      <td>26.00</td>\n",
              "    </tr>\n",
              "    <tr>\n",
              "      <th>2</th>\n",
              "      <td>1986-01-06</td>\n",
              "      <td>26.53</td>\n",
              "    </tr>\n",
              "    <tr>\n",
              "      <th>3</th>\n",
              "      <td>1986-01-07</td>\n",
              "      <td>25.85</td>\n",
              "    </tr>\n",
              "    <tr>\n",
              "      <th>4</th>\n",
              "      <td>1986-01-08</td>\n",
              "      <td>25.87</td>\n",
              "    </tr>\n",
              "    <tr>\n",
              "      <th>5</th>\n",
              "      <td>1986-01-09</td>\n",
              "      <td>26.03</td>\n",
              "    </tr>\n",
              "    <tr>\n",
              "      <th>6</th>\n",
              "      <td>1986-01-10</td>\n",
              "      <td>25.65</td>\n",
              "    </tr>\n",
              "    <tr>\n",
              "      <th>7</th>\n",
              "      <td>1986-01-13</td>\n",
              "      <td>25.08</td>\n",
              "    </tr>\n",
              "    <tr>\n",
              "      <th>8</th>\n",
              "      <td>1986-01-14</td>\n",
              "      <td>24.97</td>\n",
              "    </tr>\n",
              "    <tr>\n",
              "      <th>9</th>\n",
              "      <td>1986-01-15</td>\n",
              "      <td>25.18</td>\n",
              "    </tr>\n",
              "  </tbody>\n",
              "</table>\n",
              "</div>\n",
              "      <button class=\"colab-df-convert\" onclick=\"convertToInteractive('df-8cd5e856-7a70-4de0-a85e-b2a5436a525b')\"\n",
              "              title=\"Convert this dataframe to an interactive table.\"\n",
              "              style=\"display:none;\">\n",
              "        \n",
              "  <svg xmlns=\"http://www.w3.org/2000/svg\" height=\"24px\"viewBox=\"0 0 24 24\"\n",
              "       width=\"24px\">\n",
              "    <path d=\"M0 0h24v24H0V0z\" fill=\"none\"/>\n",
              "    <path d=\"M18.56 5.44l.94 2.06.94-2.06 2.06-.94-2.06-.94-.94-2.06-.94 2.06-2.06.94zm-11 1L8.5 8.5l.94-2.06 2.06-.94-2.06-.94L8.5 2.5l-.94 2.06-2.06.94zm10 10l.94 2.06.94-2.06 2.06-.94-2.06-.94-.94-2.06-.94 2.06-2.06.94z\"/><path d=\"M17.41 7.96l-1.37-1.37c-.4-.4-.92-.59-1.43-.59-.52 0-1.04.2-1.43.59L10.3 9.45l-7.72 7.72c-.78.78-.78 2.05 0 2.83L4 21.41c.39.39.9.59 1.41.59.51 0 1.02-.2 1.41-.59l7.78-7.78 2.81-2.81c.8-.78.8-2.07 0-2.86zM5.41 20L4 18.59l7.72-7.72 1.47 1.35L5.41 20z\"/>\n",
              "  </svg>\n",
              "      </button>\n",
              "      \n",
              "  <style>\n",
              "    .colab-df-container {\n",
              "      display:flex;\n",
              "      flex-wrap:wrap;\n",
              "      gap: 12px;\n",
              "    }\n",
              "\n",
              "    .colab-df-convert {\n",
              "      background-color: #E8F0FE;\n",
              "      border: none;\n",
              "      border-radius: 50%;\n",
              "      cursor: pointer;\n",
              "      display: none;\n",
              "      fill: #1967D2;\n",
              "      height: 32px;\n",
              "      padding: 0 0 0 0;\n",
              "      width: 32px;\n",
              "    }\n",
              "\n",
              "    .colab-df-convert:hover {\n",
              "      background-color: #E2EBFA;\n",
              "      box-shadow: 0px 1px 2px rgba(60, 64, 67, 0.3), 0px 1px 3px 1px rgba(60, 64, 67, 0.15);\n",
              "      fill: #174EA6;\n",
              "    }\n",
              "\n",
              "    [theme=dark] .colab-df-convert {\n",
              "      background-color: #3B4455;\n",
              "      fill: #D2E3FC;\n",
              "    }\n",
              "\n",
              "    [theme=dark] .colab-df-convert:hover {\n",
              "      background-color: #434B5C;\n",
              "      box-shadow: 0px 1px 3px 1px rgba(0, 0, 0, 0.15);\n",
              "      filter: drop-shadow(0px 1px 2px rgba(0, 0, 0, 0.3));\n",
              "      fill: #FFFFFF;\n",
              "    }\n",
              "  </style>\n",
              "\n",
              "      <script>\n",
              "        const buttonEl =\n",
              "          document.querySelector('#df-8cd5e856-7a70-4de0-a85e-b2a5436a525b button.colab-df-convert');\n",
              "        buttonEl.style.display =\n",
              "          google.colab.kernel.accessAllowed ? 'block' : 'none';\n",
              "\n",
              "        async function convertToInteractive(key) {\n",
              "          const element = document.querySelector('#df-8cd5e856-7a70-4de0-a85e-b2a5436a525b');\n",
              "          const dataTable =\n",
              "            await google.colab.kernel.invokeFunction('convertToInteractive',\n",
              "                                                     [key], {});\n",
              "          if (!dataTable) return;\n",
              "\n",
              "          const docLinkHtml = 'Like what you see? Visit the ' +\n",
              "            '<a target=\"_blank\" href=https://colab.research.google.com/notebooks/data_table.ipynb>data table notebook</a>'\n",
              "            + ' to learn more about interactive tables.';\n",
              "          element.innerHTML = '';\n",
              "          dataTable['output_type'] = 'display_data';\n",
              "          await google.colab.output.renderOutput(dataTable, element);\n",
              "          const docLink = document.createElement('div');\n",
              "          docLink.innerHTML = docLinkHtml;\n",
              "          element.appendChild(docLink);\n",
              "        }\n",
              "      </script>\n",
              "    </div>\n",
              "  </div>\n",
              "  "
            ]
          },
          "metadata": {},
          "execution_count": 12
        }
      ]
    },
    {
      "cell_type": "code",
      "source": [
        "ds.isnull().sum()"
      ],
      "metadata": {
        "colab": {
          "base_uri": "https://localhost:8080/"
        },
        "id": "rMc4-nNCCeTy",
        "outputId": "dfc787d6-0953-45d7-817a-96fd3374e024"
      },
      "execution_count": 13,
      "outputs": [
        {
          "output_type": "execute_result",
          "data": {
            "text/plain": [
              "Date             0\n",
              "Closing Value    7\n",
              "dtype: int64"
            ]
          },
          "metadata": {},
          "execution_count": 13
        }
      ]
    },
    {
      "cell_type": "code",
      "source": [
        "ds.dropna(axis=0,inplace=True)"
      ],
      "metadata": {
        "id": "VtSYeQeCCiV-"
      },
      "execution_count": 14,
      "outputs": []
    },
    {
      "cell_type": "code",
      "source": [
        "ds.isnull().sum()"
      ],
      "metadata": {
        "colab": {
          "base_uri": "https://localhost:8080/"
        },
        "id": "mKDHlw7YCmvZ",
        "outputId": "02771bfb-f94b-493f-e94d-3fadc194c79a"
      },
      "execution_count": 15,
      "outputs": [
        {
          "output_type": "execute_result",
          "data": {
            "text/plain": [
              "Date             0\n",
              "Closing Value    0\n",
              "dtype: int64"
            ]
          },
          "metadata": {},
          "execution_count": 15
        }
      ]
    },
    {
      "cell_type": "code",
      "source": [
        "data=ds.reset_index()['Closing Value']\n",
        "data"
      ],
      "metadata": {
        "colab": {
          "base_uri": "https://localhost:8080/"
        },
        "id": "pEY0gvQMCqWv",
        "outputId": "111f820c-99a6-4af0-ab5c-db1b8926c314"
      },
      "execution_count": 16,
      "outputs": [
        {
          "output_type": "execute_result",
          "data": {
            "text/plain": [
              "0       25.56\n",
              "1       26.00\n",
              "2       26.53\n",
              "3       25.85\n",
              "4       25.87\n",
              "        ...  \n",
              "8211    73.89\n",
              "8212    74.19\n",
              "8213    73.05\n",
              "8214    73.78\n",
              "8215    73.93\n",
              "Name: Closing Value, Length: 8216, dtype: float64"
            ]
          },
          "metadata": {},
          "execution_count": 16
        }
      ]
    },
    {
      "cell_type": "code",
      "source": [
        "from sklearn.preprocessing import MinMaxScaler\n",
        "scaler=MinMaxScaler(feature_range=(0,1))\n",
        "data=scaler.fit_transform(np.array(data).reshape(-1,1))"
      ],
      "metadata": {
        "id": "lu3bv2aDCwZ3"
      },
      "execution_count": 17,
      "outputs": []
    },
    {
      "cell_type": "code",
      "source": [
        "data"
      ],
      "metadata": {
        "colab": {
          "base_uri": "https://localhost:8080/"
        },
        "id": "BST2y85fC2qY",
        "outputId": "d7ae8957-8741-463d-9960-b2444982b04c"
      },
      "execution_count": 18,
      "outputs": [
        {
          "output_type": "execute_result",
          "data": {
            "text/plain": [
              "array([[0.11335703],\n",
              "       [0.11661484],\n",
              "       [0.12053902],\n",
              "       ...,\n",
              "       [0.46497853],\n",
              "       [0.47038353],\n",
              "       [0.47149415]])"
            ]
          },
          "metadata": {},
          "execution_count": 18
        }
      ]
    },
    {
      "cell_type": "code",
      "source": [
        "plt.plot(data)"
      ],
      "metadata": {
        "colab": {
          "base_uri": "https://localhost:8080/",
          "height": 282
        },
        "id": "F9fLgFW0C_GX",
        "outputId": "a1c70f87-7735-4330-d664-62d008dc7f04"
      },
      "execution_count": 19,
      "outputs": [
        {
          "output_type": "execute_result",
          "data": {
            "text/plain": [
              "[<matplotlib.lines.Line2D at 0x7efbb47674d0>]"
            ]
          },
          "metadata": {},
          "execution_count": 19
        },
        {
          "output_type": "display_data",
          "data": {
            "text/plain": [
              "<Figure size 432x288 with 1 Axes>"
            ],
            "image/png": "[encoded data removed]"
          },
          "metadata": {
            "needs_background": "light"
          }
        }
      ]
    },
    {
      "cell_type": "code",
      "source": [
        "training_size=int(len(data)*0.65)\n",
        "test_size=len(data)-training_size\n",
        "train_data,test_data=data[0:training_size,:],data[training_size:len(data),:1]"
      ],
      "metadata": {
        "id": "SRPezIbcDHGH"
      },
      "execution_count": 20,
      "outputs": []
    },
    {
      "cell_type": "code",
      "source": [
        "training_size,test_size"
      ],
      "metadata": {
        "colab": {
          "base_uri": "https://localhost:8080/"
        },
        "id": "Od4zcEwNDJCR",
        "outputId": "7c044e5f-179c-44c8-f3be-d3d340d358fa"
      },
      "execution_count": 21,
      "outputs": [
        {
          "output_type": "execute_result",
          "data": {
            "text/plain": [
              "(5340, 2876)"
            ]
          },
          "metadata": {},
          "execution_count": 21
        }
      ]
    },
    {
      "cell_type": "code",
      "source": [
        "train_data.shape"
      ],
      "metadata": {
        "colab": {
          "base_uri": "https://localhost:8080/"
        },
        "id": "rRS0qmu7DQdq",
        "outputId": "a77b2af0-3d3b-4e05-a59e-b98dc42c7a07"
      },
      "execution_count": 22,
      "outputs": [
        {
          "output_type": "execute_result",
          "data": {
            "text/plain": [
              "(5340, 1)"
            ]
          },
          "metadata": {},
          "execution_count": 22
        }
      ]
    },
    {
      "cell_type": "code",
      "source": [
        "def create_dataset(dataset,time_step=1):\n",
        "  dataX,dataY=[],[]\n",
        "  for i in range(len(dataset)-time_step-1):\n",
        "    a=dataset[i:(i+time_step),0]\n",
        "    dataX.append(a)\n",
        "    dataY.append(dataset[i+time_step,0])\n",
        "  return np.array(dataX),np.array(dataY)"
      ],
      "metadata": {
        "id": "D3VMAuHRDWJk"
      },
      "execution_count": 23,
      "outputs": []
    },
    {
      "cell_type": "code",
      "source": [
        "time_step=10\n",
        "x_train,y_train=create_dataset(train_data,time_step)\n",
        "x_test,y_test=create_dataset(test_data,time_step)"
      ],
      "metadata": {
        "id": "Hv9AJLDXDaig"
      },
      "execution_count": 24,
      "outputs": []
    },
    {
      "cell_type": "code",
      "source": [
        "print(x_train.shape),print(y_train.shape)"
      ],
      "metadata": {
        "colab": {
          "base_uri": "https://localhost:8080/"
        },
        "id": "ZnskoUMVDeQj",
        "outputId": "bd24627e-6818-45ed-bc4f-7acdd32b6fff"
      },
      "execution_count": 25,
      "outputs": [
        {
          "output_type": "stream",
          "name": "stdout",
          "text": [
            "(5329, 10)\n",
            "(5329,)\n"
          ]
        },
        {
          "output_type": "execute_result",
          "data": {
            "text/plain": [
              "(None, None)"
            ]
          },
          "metadata": {},
          "execution_count": 25
        }
      ]
    },
    {
      "cell_type": "code",
      "source": [
        "print(x_test.shape),print(y_test.shape)"
      ],
      "metadata": {
        "colab": {
          "base_uri": "https://localhost:8080/"
        },
        "id": "jbKYPgXtDkou",
        "outputId": "db94d56d-b564-4cce-961d-01fcfce8ff85"
      },
      "execution_count": 26,
      "outputs": [
        {
          "output_type": "stream",
          "name": "stdout",
          "text": [
            "(2865, 10)\n",
            "(2865,)\n"
          ]
        },
        {
          "output_type": "execute_result",
          "data": {
            "text/plain": [
              "(None, None)"
            ]
          },
          "metadata": {},
          "execution_count": 26
        }
      ]
    },
    {
      "cell_type": "code",
      "source": [
        "x_train"
      ],
      "metadata": {
        "colab": {
          "base_uri": "https://localhost:8080/"
        },
        "id": "Bo9QT6mJDpDu",
        "outputId": "f28e79a4-3def-4033-a9e4-237ef20844fb"
      },
      "execution_count": 27,
      "outputs": [
        {
          "output_type": "execute_result",
          "data": {
            "text/plain": [
              "array([[0.11335703, 0.11661484, 0.12053902, ..., 0.10980305, 0.1089886 ,\n",
              "        0.11054346],\n",
              "       [0.11661484, 0.12053902, 0.11550422, ..., 0.1089886 , 0.11054346,\n",
              "        0.10165852],\n",
              "       [0.12053902, 0.11550422, 0.1156523 , ..., 0.11054346, 0.10165852,\n",
              "        0.09906708],\n",
              "       ...,\n",
              "       [0.36731823, 0.35176958, 0.36080261, ..., 0.36391234, 0.37042796,\n",
              "        0.37042796],\n",
              "       [0.35176958, 0.36080261, 0.35354657, ..., 0.37042796, 0.37042796,\n",
              "        0.37879461],\n",
              "       [0.36080261, 0.35354657, 0.35295424, ..., 0.37042796, 0.37879461,\n",
              "        0.37916482]])"
            ]
          },
          "metadata": {},
          "execution_count": 27
        }
      ]
    },
    {
      "cell_type": "code",
      "source": [
        "x_test"
      ],
      "metadata": {
        "colab": {
          "base_uri": "https://localhost:8080/"
        },
        "id": "fOrxWZzFDumk",
        "outputId": "45658292-83ed-4816-a1d1-1da832de4654"
      },
      "execution_count": 28,
      "outputs": [
        {
          "output_type": "execute_result",
          "data": {
            "text/plain": [
              "array([[0.38005331, 0.36872501, 0.37324152, ..., 0.3537687 , 0.35465719,\n",
              "        0.3499926 ],\n",
              "       [0.36872501, 0.37324152, 0.38205242, ..., 0.35465719, 0.3499926 ,\n",
              "        0.3465867 ],\n",
              "       [0.37324152, 0.38205242, 0.38042352, ..., 0.3499926 , 0.3465867 ,\n",
              "        0.34355101],\n",
              "       ...,\n",
              "       [0.40604176, 0.41218718, 0.41041019, ..., 0.46794017, 0.47297497,\n",
              "        0.47119799],\n",
              "       [0.41218718, 0.41041019, 0.43513994, ..., 0.47297497, 0.47119799,\n",
              "        0.47341922],\n",
              "       [0.41041019, 0.43513994, 0.4417296 , ..., 0.47119799, 0.47341922,\n",
              "        0.46497853]])"
            ]
          },
          "metadata": {},
          "execution_count": 28
        }
      ]
    },
    {
      "cell_type": "code",
      "source": [
        "x_train1=x_train.reshape(x_train.shape[0],x_train.shape[1],1)\n",
        "x_test=x_test.reshape(x_test.shape[0],x_test.shape[1],1)"
      ],
      "metadata": {
        "id": "QyQIrUgSDz0G"
      },
      "execution_count": 29,
      "outputs": []
    },
    {
      "cell_type": "code",
      "source": [
        "x_train1"
      ],
      "metadata": {
        "colab": {
          "base_uri": "https://localhost:8080/"
        },
        "id": "OHO-XV_DD5L7",
        "outputId": "aa5af52a-d862-4865-fdeb-f7d5d24c6e5f"
      },
      "execution_count": 30,
      "outputs": [
        {
          "output_type": "execute_result",
          "data": {
            "text/plain": [
              "array([[[0.11335703],\n",
              "        [0.11661484],\n",
              "        [0.12053902],\n",
              "        ...,\n",
              "        [0.10980305],\n",
              "        [0.1089886 ],\n",
              "        [0.11054346]],\n",
              "\n",
              "       [[0.11661484],\n",
              "        [0.12053902],\n",
              "        [0.11550422],\n",
              "        ...,\n",
              "        [0.1089886 ],\n",
              "        [0.11054346],\n",
              "        [0.10165852]],\n",
              "\n",
              "       [[0.12053902],\n",
              "        [0.11550422],\n",
              "        [0.1156523 ],\n",
              "        ...,\n",
              "        [0.11054346],\n",
              "        [0.10165852],\n",
              "        [0.09906708]],\n",
              "\n",
              "       ...,\n",
              "\n",
              "       [[0.36731823],\n",
              "        [0.35176958],\n",
              "        [0.36080261],\n",
              "        ...,\n",
              "        [0.36391234],\n",
              "        [0.37042796],\n",
              "        [0.37042796]],\n",
              "\n",
              "       [[0.35176958],\n",
              "        [0.36080261],\n",
              "        [0.35354657],\n",
              "        ...,\n",
              "        [0.37042796],\n",
              "        [0.37042796],\n",
              "        [0.37879461]],\n",
              "\n",
              "       [[0.36080261],\n",
              "        [0.35354657],\n",
              "        [0.35295424],\n",
              "        ...,\n",
              "        [0.37042796],\n",
              "        [0.37879461],\n",
              "        [0.37916482]]])"
            ]
          },
          "metadata": {},
          "execution_count": 30
        }
      ]
    },
    {
      "cell_type": "markdown",
      "source": [
        "MODEL BUILDING :"
      ],
      "metadata": {
        "id": "jT4c8-YJB8gx"
      }
    },
    {
      "cell_type": "markdown",
      "source": [
        "IMPORTING THE MODEL BUILDING LIBRARIES"
      ],
      "metadata": {
        "id": "dhy26bBC-oSu"
      }
    },
    {
      "cell_type": "code",
      "execution_count": 31,
      "metadata": {
        "id": "7LTF89a8-iz6"
      },
      "outputs": [],
      "source": [
        "from tensorflow.keras.models import Sequential\n",
        "from tensorflow.keras.layers import Dense\n",
        "from tensorflow.keras.layers import LSTM"
      ]
    },
    {
      "cell_type": "markdown",
      "source": [
        "INITIALIZING THE MODEL"
      ],
      "metadata": {
        "id": "jMWA0KXk_G25"
      }
    },
    {
      "cell_type": "code",
      "source": [
        "model = Sequential()"
      ],
      "metadata": {
        "id": "V6_BEhR3_Nbz"
      },
      "execution_count": 32,
      "outputs": []
    },
    {
      "cell_type": "markdown",
      "source": [
        "ADDING LSTM LAYERS"
      ],
      "metadata": {
        "id": "y9SO7hyy_VvG"
      }
    },
    {
      "cell_type": "code",
      "source": [
        "model.add(LSTM(50,return_sequences=True,input_shape=(10,1)))\n",
        "model.add(LSTM(50, return_sequences=True))\n",
        "model.add(LSTM(50))"
      ],
      "metadata": {
        "id": "DRgz8KKk_eDu"
      },
      "execution_count": 33,
      "outputs": []
    },
    {
      "cell_type": "markdown",
      "source": [
        "ADDING OUTPUT LAYERS"
      ],
      "metadata": {
        "id": "6Mt741iu_pmu"
      }
    },
    {
      "cell_type": "code",
      "source": [
        "model.add(Dense (1))\n",
        "model.summary()"
      ],
      "metadata": {
        "colab": {
          "base_uri": "https://localhost:8080/"
        },
        "id": "1YhyX4Q0_uy3",
        "outputId": "00e15249-fb1b-4cf7-9cb6-464bd60d1200"
      },
      "execution_count": 34,
      "outputs": [
        {
          "output_type": "stream",
          "name": "stdout",
          "text": [
            "Model: \"sequential_1\"\n",
            "_________________________________________________________________\n",
            " Layer (type)                Output Shape              Param #   \n",
            "=================================================================\n",
            " lstm_3 (LSTM)               (None, 10, 50)            10400     \n",
            "                                                                 \n",
            " lstm_4 (LSTM)               (None, 10, 50)            20200     \n",
            "                                                                 \n",
            " lstm_5 (LSTM)               (None, 50)                20200     \n",
            "                                                                 \n",
            " dense_1 (Dense)             (None, 1)                 51        \n",
            "                                                                 \n",
            "=================================================================\n",
            "Total params: 50,851\n",
            "Trainable params: 50,851\n",
            "Non-trainable params: 0\n",
            "_________________________________________________________________\n"
          ]
        }
      ]
    },
    {
      "cell_type": "markdown",
      "source": [
        "CONFIGURE THE LEARNING PROCESS"
      ],
      "metadata": {
        "id": "Tyt-XpI9_5Ic"
      }
    },
    {
      "cell_type": "code",
      "source": [
        "model.compile(loss='mean_squared_error',optimizer='adam')"
      ],
      "metadata": {
        "id": "uPNCpcTvAFsB"
      },
      "execution_count": 35,
      "outputs": []
    },
    {
      "cell_type": "markdown",
      "source": [
        "TRAIN THE MODEL"
      ],
      "metadata": {
        "id": "gCoeEoixBFX5"
      }
    },
    {
      "cell_type": "code",
      "source": [
        "model.fit(x_train,y_train,validation_data=(x_test,y_test),epochs=50,batch_size=64,verbose=1)"
      ],
      "metadata": {
        "colab": {
          "base_uri": "https://localhost:8080/"
        },
        "id": "W7FnBTqoBIcG",
        "outputId": "2bc14705-6720-4c94-cc3f-f94eed38dcca"
      },
      "execution_count": 39,
      "outputs": [
        {
          "output_type": "stream",
          "name": "stdout",
          "text": [
            "Epoch 1/50\n",
            "84/84 [==============================] - 2s 26ms/step - loss: 1.2070e-04 - val_loss: 8.1460e-04\n",
            "Epoch 2/50\n",
            "84/84 [==============================] - 2s 26ms/step - loss: 1.2549e-04 - val_loss: 0.0016\n",
            "Epoch 3/50\n",
            "84/84 [==============================] - 2s 25ms/step - loss: 1.2190e-04 - val_loss: 8.6385e-04\n",
            "Epoch 4/50\n",
            "84/84 [==============================] - 2s 25ms/step - loss: 1.3271e-04 - val_loss: 7.9658e-04\n",
            "Epoch 5/50\n",
            "84/84 [==============================] - 2s 25ms/step - loss: 1.2178e-04 - val_loss: 7.2671e-04\n",
            "Epoch 6/50\n",
            "84/84 [==============================] - 2s 25ms/step - loss: 1.1164e-04 - val_loss: 7.9367e-04\n",
            "Epoch 7/50\n",
            "84/84 [==============================] - 2s 25ms/step - loss: 1.1613e-04 - val_loss: 7.4060e-04\n",
            "Epoch 8/50\n",
            "84/84 [==============================] - 2s 25ms/step - loss: 1.0807e-04 - val_loss: 7.4370e-04\n",
            "Epoch 9/50\n",
            "84/84 [==============================] - 2s 25ms/step - loss: 1.1960e-04 - val_loss: 8.1612e-04\n",
            "Epoch 10/50\n",
            "84/84 [==============================] - 2s 26ms/step - loss: 1.1780e-04 - val_loss: 8.6916e-04\n",
            "Epoch 11/50\n",
            "84/84 [==============================] - 2s 25ms/step - loss: 1.0194e-04 - val_loss: 6.4463e-04\n",
            "Epoch 12/50\n",
            "84/84 [==============================] - 2s 25ms/step - loss: 1.0945e-04 - val_loss: 6.4256e-04\n",
            "Epoch 13/50\n",
            "84/84 [==============================] - 2s 25ms/step - loss: 1.0205e-04 - val_loss: 6.1188e-04\n",
            "Epoch 14/50\n",
            "84/84 [==============================] - 2s 26ms/step - loss: 1.1875e-04 - val_loss: 6.9684e-04\n",
            "Epoch 15/50\n",
            "84/84 [==============================] - 2s 26ms/step - loss: 9.4539e-05 - val_loss: 6.3309e-04\n",
            "Epoch 16/50\n",
            "84/84 [==============================] - 2s 25ms/step - loss: 8.8806e-05 - val_loss: 0.0016\n",
            "Epoch 17/50\n",
            "84/84 [==============================] - 2s 26ms/step - loss: 8.9948e-05 - val_loss: 0.0010\n",
            "Epoch 18/50\n",
            "84/84 [==============================] - 2s 26ms/step - loss: 7.9549e-05 - val_loss: 3.9926e-04\n",
            "Epoch 19/50\n",
            "84/84 [==============================] - 2s 25ms/step - loss: 8.1428e-05 - val_loss: 3.8144e-04\n",
            "Epoch 20/50\n",
            "84/84 [==============================] - 2s 26ms/step - loss: 8.3601e-05 - val_loss: 3.7646e-04\n",
            "Epoch 21/50\n",
            "84/84 [==============================] - 2s 26ms/step - loss: 7.0595e-05 - val_loss: 6.8473e-04\n",
            "Epoch 22/50\n",
            "84/84 [==============================] - 2s 26ms/step - loss: 7.6699e-05 - val_loss: 3.6745e-04\n",
            "Epoch 23/50\n",
            "84/84 [==============================] - 2s 26ms/step - loss: 6.5989e-05 - val_loss: 7.6820e-04\n",
            "Epoch 24/50\n",
            "84/84 [==============================] - 2s 26ms/step - loss: 6.3182e-05 - val_loss: 3.1958e-04\n",
            "Epoch 25/50\n",
            "84/84 [==============================] - 2s 26ms/step - loss: 6.3478e-05 - val_loss: 2.9851e-04\n",
            "Epoch 26/50\n",
            "84/84 [==============================] - 2s 26ms/step - loss: 6.1225e-05 - val_loss: 2.7415e-04\n",
            "Epoch 27/50\n",
            "84/84 [==============================] - 2s 26ms/step - loss: 5.7249e-05 - val_loss: 2.5176e-04\n",
            "Epoch 28/50\n",
            "84/84 [==============================] - 2s 25ms/step - loss: 5.7900e-05 - val_loss: 2.3879e-04\n",
            "Epoch 29/50\n",
            "84/84 [==============================] - 2s 26ms/step - loss: 5.2456e-05 - val_loss: 2.7404e-04\n",
            "Epoch 30/50\n",
            "84/84 [==============================] - 2s 26ms/step - loss: 5.4425e-05 - val_loss: 2.2220e-04\n",
            "Epoch 31/50\n",
            "84/84 [==============================] - 2s 25ms/step - loss: 5.4568e-05 - val_loss: 3.8672e-04\n",
            "Epoch 32/50\n",
            "84/84 [==============================] - 2s 26ms/step - loss: 5.0858e-05 - val_loss: 2.1629e-04\n",
            "Epoch 33/50\n",
            "84/84 [==============================] - 2s 26ms/step - loss: 4.9330e-05 - val_loss: 2.3553e-04\n",
            "Epoch 34/50\n",
            "84/84 [==============================] - 2s 25ms/step - loss: 4.4490e-05 - val_loss: 2.3190e-04\n",
            "Epoch 35/50\n",
            "84/84 [==============================] - 2s 25ms/step - loss: 4.1887e-05 - val_loss: 1.9405e-04\n",
            "Epoch 36/50\n",
            "84/84 [==============================] - 2s 26ms/step - loss: 4.6769e-05 - val_loss: 2.1010e-04\n",
            "Epoch 37/50\n",
            "84/84 [==============================] - 2s 25ms/step - loss: 4.0282e-05 - val_loss: 2.0665e-04\n",
            "Epoch 38/50\n",
            "84/84 [==============================] - 2s 26ms/step - loss: 3.9748e-05 - val_loss: 5.3242e-04\n",
            "Epoch 39/50\n",
            "84/84 [==============================] - 2s 26ms/step - loss: 4.2591e-05 - val_loss: 3.5919e-04\n",
            "Epoch 40/50\n",
            "84/84 [==============================] - 2s 26ms/step - loss: 3.9818e-05 - val_loss: 2.0044e-04\n",
            "Epoch 41/50\n",
            "84/84 [==============================] - 2s 26ms/step - loss: 3.5413e-05 - val_loss: 1.8022e-04\n",
            "Epoch 42/50\n",
            "84/84 [==============================] - 2s 26ms/step - loss: 3.7661e-05 - val_loss: 1.6863e-04\n",
            "Epoch 43/50\n",
            "84/84 [==============================] - 2s 26ms/step - loss: 3.6191e-05 - val_loss: 1.8480e-04\n",
            "Epoch 44/50\n",
            "84/84 [==============================] - 2s 26ms/step - loss: 3.4518e-05 - val_loss: 1.6939e-04\n",
            "Epoch 45/50\n",
            "84/84 [==============================] - 2s 26ms/step - loss: 4.0860e-05 - val_loss: 3.2525e-04\n",
            "Epoch 46/50\n",
            "84/84 [==============================] - 2s 25ms/step - loss: 3.5900e-05 - val_loss: 2.1578e-04\n",
            "Epoch 47/50\n",
            "84/84 [==============================] - 2s 26ms/step - loss: 3.2557e-05 - val_loss: 1.7760e-04\n",
            "Epoch 48/50\n",
            "84/84 [==============================] - 2s 26ms/step - loss: 3.7015e-05 - val_loss: 2.1562e-04\n",
            "Epoch 49/50\n",
            "84/84 [==============================] - 2s 25ms/step - loss: 3.3782e-05 - val_loss: 2.4049e-04\n",
            "Epoch 50/50\n",
            "84/84 [==============================] - 2s 25ms/step - loss: 3.3181e-05 - val_loss: 1.7738e-04\n"
          ]
        },
        {
          "output_type": "execute_result",
          "data": {
            "text/plain": [
              "<keras.callbacks.History at 0x7efbb2822d10>"
            ]
          },
          "metadata": {},
          "execution_count": 39
        }
      ]
    },
    {
      "cell_type": "markdown",
      "source": [
        "MODEL EVALUATION"
      ],
      "metadata": {
        "id": "f-7_oUc8FHal"
      }
    },
    {
      "cell_type": "code",
      "source": [
        "##Transformback to original form\n",
        "train_predict=scaler.inverse_transform(train_data) \n",
        "test_predict=scaler.inverse_transform(test_data)\n",
        "## Calculate RMSE performance metrics\n",
        "import math \n",
        "from sklearn.metrics import mean_squared_error\n",
        "math.sqrt(mean_squared_error(train_data,train_predict))"
      ],
      "metadata": {
        "colab": {
          "base_uri": "https://localhost:8080/"
        },
        "id": "dRbtBnTwFK5W",
        "outputId": "4c1162cf-f9f3-4f82-aef8-2f22c5e774e5"
      },
      "execution_count": 41,
      "outputs": [
        {
          "output_type": "execute_result",
          "data": {
            "text/plain": [
              "29.347830443269938"
            ]
          },
          "metadata": {},
          "execution_count": 41
        }
      ]
    },
    {
      "cell_type": "markdown",
      "source": [
        "SAVE THE MODEL"
      ],
      "metadata": {
        "id": "wJt-GSc5F6KR"
      }
    },
    {
      "cell_type": "code",
      "source": [
        "from tensorflow.keras.models import load_model"
      ],
      "metadata": {
        "id": "OwEwdcMpF5G3"
      },
      "execution_count": 42,
      "outputs": []
    },
    {
      "cell_type": "code",
      "source": [
        "model.save(\"crude_oil.h5\")"
      ],
      "metadata": {
        "id": "uSojnKJsGCnu"
      },
      "execution_count": 53,
      "outputs": []
    },
    {
      "cell_type": "markdown",
      "source": [
        "TEST THE MODEL"
      ],
      "metadata": {
        "id": "XrDTisgFGLdA"
      }
    },
    {
      "cell_type": "code",
      "source": [
        "## Plotting\n",
        "look_back=10\n",
        "trainpredictPlot = np.empty_like(data)\n",
        "trainpredictPlot[:, :]= np.nan\n",
        "trainpredictPlot[look_back:len(train_predict)+look_back, :] = train_predict\n",
        "# shift test predictions for plotting\n",
        "testPredictplot = np.empty_like(data)\n",
        "testPredictplot[:,: ] = np.nan\n",
        "testPredictplot[look_back:len(test_predict)+look_back, :] = test_predict\n",
        "# plot baseline and predictions\n",
        "plt.plot(scaler.inverse_transform(data))\n",
        "plt.show()"
      ],
      "metadata": {
        "colab": {
          "base_uri": "https://localhost:8080/",
          "height": 265
        },
        "id": "SEdDRk--GKSm",
        "outputId": "d76cf184-d465-4813-d96e-18bc72097265"
      },
      "execution_count": 44,
      "outputs": [
        {
          "output_type": "display_data",
          "data": {
            "text/plain": [
              "<Figure size 432x288 with 1 Axes>"
            ],
            "image/png": "[encoded data removed]"
          },
          "metadata": {
            "needs_background": "light"
          }
        }
      ]
    },
    {
      "cell_type": "code",
      "source": [
        "len(test_data)"
      ],
      "metadata": {
        "colab": {
          "base_uri": "https://localhost:8080/"
        },
        "id": "ut4Nw-z3GeOo",
        "outputId": "c6ab1f85-0c34-4f72-e7b6-0bdd65df6a30"
      },
      "execution_count": 45,
      "outputs": [
        {
          "output_type": "execute_result",
          "data": {
            "text/plain": [
              "2876"
            ]
          },
          "metadata": {},
          "execution_count": 45
        }
      ]
    },
    {
      "cell_type": "code",
      "source": [
        "x_input=test_data[2866:].reshape(1,-1)\n",
        "x_input.shape"
      ],
      "metadata": {
        "colab": {
          "base_uri": "https://localhost:8080/"
        },
        "id": "-tpjm-WdGioL",
        "outputId": "c5d287ce-4fd9-4fad-a259-cb6644e1b4fd"
      },
      "execution_count": 46,
      "outputs": [
        {
          "output_type": "execute_result",
          "data": {
            "text/plain": [
              "(1, 10)"
            ]
          },
          "metadata": {},
          "execution_count": 46
        }
      ]
    },
    {
      "cell_type": "code",
      "source": [
        "temp_input=list(x_input) \n",
        "temp_input=temp_input[0].tolist()"
      ],
      "metadata": {
        "id": "7SyJaXwnGmdO"
      },
      "execution_count": 47,
      "outputs": []
    },
    {
      "cell_type": "code",
      "source": [
        "temp_input"
      ],
      "metadata": {
        "colab": {
          "base_uri": "https://localhost:8080/"
        },
        "id": "y7m9VilPGquI",
        "outputId": "3d59f105-7c2e-48de-f0c3-6174d3bcb159"
      },
      "execution_count": 48,
      "outputs": [
        {
          "output_type": "execute_result",
          "data": {
            "text/plain": [
              "[0.44172960165852215,\n",
              " 0.48111950244335855,\n",
              " 0.49726047682511476,\n",
              " 0.4679401747371539,\n",
              " 0.4729749740855915,\n",
              " 0.47119798608026064,\n",
              " 0.47341922108692425,\n",
              " 0.4649785280616022,\n",
              " 0.4703835332444839,\n",
              " 0.47149415074781587]"
            ]
          },
          "metadata": {},
          "execution_count": 48
        }
      ]
    },
    {
      "cell_type": "code",
      "source": [
        "lst_output=[]\n",
        "n_steps=10\n",
        "i=0\n",
        "while(i<10):\n",
        "    if(len(temp_input)>10):\n",
        "#print(temp_input)\n",
        "       x_input=np.array(temp_input[1:]) \n",
        "       print(\"{} day input {}\".format(i,x_input))\n",
        "       x_input=x_input.reshape(1,-1)\n",
        "       x_input = x_input.reshape((1, n_steps, 1)) #print(x_input)\n",
        "       yhat = model.predict(x_input, verbose=0)\n",
        "       print(\"{} day output {}\".format(i,yhat))\n",
        "       temp_input.extend(yhat[0].tolist())\n",
        "       temp_input=temp_input[1:] #print(temp_input)\n",
        "       lst_output.extend(yhat.tolist())\n",
        "       i=i+1\n",
        "    else:\n",
        "       x_input = x_input.reshape((1, n_steps,1))\n",
        "       yhat = model.predict(x_input, verbose=0)\n",
        "       print(yhat[0])\n",
        "       temp_input.extend(yhat[0].tolist()) \n",
        "       print(len(temp_input))\n",
        "       lst_output.extend(yhat.tolist())\n",
        "       i=i+1"
      ],
      "metadata": {
        "colab": {
          "base_uri": "https://localhost:8080/"
        },
        "id": "_BD35NPpGxe_",
        "outputId": "c57bf3ae-f91a-4066-ec96-480b2b053efa"
      },
      "execution_count": 49,
      "outputs": [
        {
          "output_type": "stream",
          "name": "stdout",
          "text": [
            "[0.47469628]\n",
            "11\n",
            "1 day input [0.4811195  0.49726048 0.46794017 0.47297497 0.47119799 0.47341922\n",
            " 0.46497853 0.47038353 0.47149415 0.47469628]\n",
            "1 day output [[0.47822696]]\n",
            "2 day input [0.49726048 0.46794017 0.47297497 0.47119799 0.47341922 0.46497853\n",
            " 0.47038353 0.47149415 0.47469628 0.47822696]\n",
            "2 day output [[0.48153618]]\n",
            "3 day input [0.46794017 0.47297497 0.47119799 0.47341922 0.46497853 0.47038353\n",
            " 0.47149415 0.47469628 0.47822696 0.48153618]\n",
            "3 day output [[0.48429486]]\n",
            "4 day input [0.47297497 0.47119799 0.47341922 0.46497853 0.47038353 0.47149415\n",
            " 0.47469628 0.47822696 0.48153618 0.48429486]\n",
            "4 day output [[0.48669472]]\n",
            "5 day input [0.47119799 0.47341922 0.46497853 0.47038353 0.47149415 0.47469628\n",
            " 0.47822696 0.48153618 0.48429486 0.48669472]\n",
            "5 day output [[0.48871815]]\n",
            "6 day input [0.47341922 0.46497853 0.47038353 0.47149415 0.47469628 0.47822696\n",
            " 0.48153618 0.48429486 0.48669472 0.48871815]\n",
            "6 day output [[0.49048656]]\n",
            "7 day input [0.46497853 0.47038353 0.47149415 0.47469628 0.47822696 0.48153618\n",
            " 0.48429486 0.48669472 0.48871815 0.49048656]\n",
            "7 day output [[0.4920947]]\n",
            "8 day input [0.47038353 0.47149415 0.47469628 0.47822696 0.48153618 0.48429486\n",
            " 0.48669472 0.48871815 0.49048656 0.4920947 ]\n",
            "8 day output [[0.49372402]]\n",
            "9 day input [0.47149415 0.47469628 0.47822696 0.48153618 0.48429486 0.48669472\n",
            " 0.48871815 0.49048656 0.4920947  0.49372402]\n",
            "9 day output [[0.49540502]]\n"
          ]
        }
      ]
    },
    {
      "cell_type": "code",
      "source": [
        "day_new=np.arange(1,11) \n",
        "day_pred=np.arange(11,21)\n",
        "len(data)\n",
        "plt.plot(day_new, scaler.inverse_transform(data[8206:])) \n",
        "plt.plot(day_pred, scaler.inverse_transform(lst_output))"
      ],
      "metadata": {
        "colab": {
          "base_uri": "https://localhost:8080/",
          "height": 282
        },
        "id": "yN-taUqgG54P",
        "outputId": "94d6f5e9-38a1-461d-869d-244aff32436d"
      },
      "execution_count": 50,
      "outputs": [
        {
          "output_type": "execute_result",
          "data": {
            "text/plain": [
              "[<matplotlib.lines.Line2D at 0x7efbac384dd0>]"
            ]
          },
          "metadata": {},
          "execution_count": 50
        },
        {
          "output_type": "display_data",
          "data": {
            "text/plain": [
              "<Figure size 432x288 with 1 Axes>"
            ],
            "image/png": "[encoded data removed]"
          },
          "metadata": {
            "needs_background": "light"
          }
        }
      ]
    },
    {
      "cell_type": "code",
      "source": [
        "df3=data.tolist() \n",
        "df3.extend(lst_output) \n",
        "plt.plot(df3[8100:])"
      ],
      "metadata": {
        "colab": {
          "base_uri": "https://localhost:8080/",
          "height": 282
        },
        "id": "ghx4DwuXG_Uq",
        "outputId": "89587887-e4a2-4779-f1e9-2a47a4400d4f"
      },
      "execution_count": 51,
      "outputs": [
        {
          "output_type": "execute_result",
          "data": {
            "text/plain": [
              "[<matplotlib.lines.Line2D at 0x7efbb261e290>]"
            ]
          },
          "metadata": {},
          "execution_count": 51
        },
        {
          "output_type": "display_data",
          "data": {
            "text/plain": [
              "<Figure size 432x288 with 1 Axes>"
            ],
            "image/png": "[encoded data removed]"
          },
          "metadata": {
            "needs_background": "light"
          }
        }
      ]
    },
    {
      "cell_type": "code",
      "source": [
        "df3=scaler.inverse_transform(df3).tolist()\n",
        "plt.plot(scaler.inverse_transform(data))"
      ],
      "metadata": {
        "colab": {
          "base_uri": "https://localhost:8080/",
          "height": 282
        },
        "id": "4vStpRIdHGdr",
        "outputId": "7da6639c-9275-4615-c8b4-33519236a14e"
      },
      "execution_count": 52,
      "outputs": [
        {
          "output_type": "execute_result",
          "data": {
            "text/plain": [
              "[<matplotlib.lines.Line2D at 0x7efbb2486050>]"
            ]
          },
          "metadata": {},
          "execution_count": 52
        },
        {
          "output_type": "display_data",
          "data": {
            "text/plain": [
              "<Figure size 432x288 with 1 Axes>"
            ],
            "image/png": "[encoded data removed]"
          },
          "metadata": {
            "needs_background": "light"
          }
        }
      ]
    }
  ]
}